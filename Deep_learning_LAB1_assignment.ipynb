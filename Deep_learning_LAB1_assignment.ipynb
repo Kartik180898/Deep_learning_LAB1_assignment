{
  "nbformat": 4,
  "nbformat_minor": 0,
  "metadata": {
    "colab": {
      "name": "Deep_learning_LAB1_assignment.ipynb",
      "provenance": [],
      "collapsed_sections": []
    },
    "kernelspec": {
      "name": "python3",
      "display_name": "Python 3"
    },
    "language_info": {
      "name": "python"
    }
  },
  "cells": [
    {
      "cell_type": "markdown",
      "source": [
        "##**Deep learning LAB1 assignment**"
      ],
      "metadata": {
        "id": "ChkZGWzpKMUI"
      }
    },
    {
      "cell_type": "code",
      "source": [
        "from google.colab import drive\n",
        "drive.mount('/content/drive')"
      ],
      "metadata": {
        "colab": {
          "base_uri": "https://localhost:8080/"
        },
        "id": "2KSKoHjSw76y",
        "outputId": "35844059-c85e-4cb8-9efa-47aa0023da3e"
      },
      "execution_count": 1,
      "outputs": [
        {
          "output_type": "stream",
          "name": "stdout",
          "text": [
            "Mounted at /content/drive\n"
          ]
        }
      ]
    },
    {
      "cell_type": "markdown",
      "source": [
        "##All Essential Imports"
      ],
      "metadata": {
        "id": "bWnh1RZONmjt"
      }
    },
    {
      "cell_type": "code",
      "source": [
        "import torch\n",
        "import numpy as np\n",
        "import matplotlib.pyplot as plot\n",
        "%matplotlib inline\n",
        "import h5py \n",
        "from torch.utils.data import DataLoader\n"
      ],
      "metadata": {
        "id": "-7XGIWBUN0rs"
      },
      "execution_count": 2,
      "outputs": []
    },
    {
      "cell_type": "markdown",
      "source": [
        "##**STEP 1**: Open MNISTdata.*hdf5* in read mode and read image and corresponding labels"
      ],
      "metadata": {
        "id": "t3EvDArIODXa"
      }
    },
    {
      "cell_type": "code",
      "execution_count": 3,
      "metadata": {
        "id": "fExmF0EEvPRC",
        "colab": {
          "base_uri": "https://localhost:8080/"
        },
        "outputId": "542ee8de-ea9b-4d8c-edb7-b6c9e7c276d6"
      },
      "outputs": [
        {
          "output_type": "stream",
          "name": "stderr",
          "text": [
            "/usr/local/lib/python3.7/dist-packages/ipykernel_launcher.py:8: UserWarning: Creating a tensor from a list of numpy.ndarrays is extremely slow. Please consider converting the list to a single numpy.ndarray with numpy.array() before converting to a tensor. (Triggered internally at  ../torch/csrc/utils/tensor_new.cpp:201.)\n",
            "  \n"
          ]
        }
      ],
      "source": [
        "MNIST_data = h5py.File('/content/drive/MyDrive/Deep_Learn_LAB/Lab_assignments/LAB_1/MNISTdata.hdf5', 'r')\n",
        "\n",
        "data_img = MNIST_data.get('input')               \n",
        "data_lbl = MNIST_data.get('output')\n",
        "##MNIST_data.keys()\n",
        "\n",
        "\n",
        "data_img = torch.tensor(data_img) \n",
        "data_img = torch.div(data_img, 255)\n",
        "data_lbl = torch.tensor(data_lbl)\n",
        "\n"
      ]
    },
    {
      "cell_type": "code",
      "source": [
        ""
      ],
      "metadata": {
        "id": "ZzCJLDCdzIWm"
      },
      "execution_count": null,
      "outputs": []
    },
    {
      "cell_type": "markdown",
      "source": [
        "##Questions related to Step-1:"
      ],
      "metadata": {
        "id": "owwhbxf3s1tN"
      }
    },
    {
      "cell_type": "code",
      "source": [
        "def split_data(data, m, n):\n",
        "  x , y = data.split(int(m*2000), dim = 0)\n",
        "  return x, y\n"
      ],
      "metadata": {
        "id": "zdq6boZ1zeD9"
      },
      "execution_count": 4,
      "outputs": []
    },
    {
      "cell_type": "code",
      "source": [
        "##(A)Split the dataset into two parts as training data and testing data with the ratio 70 : 30.\n",
        "train_img, test_img   = split_data(data_img, 0.7, 0.3)\n",
        "train_lbl, test_lbl   = split_data(data_lbl, 0.7, 0.3)\n",
        "\n",
        "\n",
        "##• Print the input and the output sizes of the training and the testing dataset.\n",
        "print('Input images and output labels size of Training set respectively:', train_img.shape, train_lbl.shape)\n",
        "print('\\nInput images and output labels size of Testing set respectively:', test_img.shape, test_lbl.shape)"
      ],
      "metadata": {
        "colab": {
          "base_uri": "https://localhost:8080/"
        },
        "id": "_6zBzlawtKqw",
        "outputId": "18d9df92-f401-4d64-9feb-e7512c030999"
      },
      "execution_count": 5,
      "outputs": [
        {
          "output_type": "stream",
          "name": "stdout",
          "text": [
            "Input images and output labels size of Training set respectively: torch.Size([1400, 28, 28, 1]) torch.Size([1400, 1])\n",
            "\n",
            "Input images and output labels size of Testing set respectively: torch.Size([600, 28, 28, 1]) torch.Size([600, 1])\n"
          ]
        }
      ]
    },
    {
      "cell_type": "code",
      "source": [
        "##• Plot first 5 test images and provide the true label as the caption for each test image\n",
        "image = test_img[0]\n",
        "plot.xlabel(int(test_lbl[0]))\n",
        "plot.imshow(image[:,:,0], cmap = 'gray')"
      ],
      "metadata": {
        "colab": {
          "base_uri": "https://localhost:8080/",
          "height": 296
        },
        "id": "QsJLIMkV7KA3",
        "outputId": "020e938e-6c87-48e6-90b4-b869d8d69d69"
      },
      "execution_count": 6,
      "outputs": [
        {
          "output_type": "execute_result",
          "data": {
            "text/plain": [
              "<matplotlib.image.AxesImage at 0x7f63b2783f10>"
            ]
          },
          "metadata": {},
          "execution_count": 6
        },
        {
          "output_type": "display_data",
          "data": {
            "image/png": "[encoded data removed]",
            "text/plain": [
              "<Figure size 432x288 with 1 Axes>"
            ]
          },
          "metadata": {
            "needs_background": "light"
          }
        }
      ]
    },
    {
      "cell_type": "code",
      "source": [
        "## 2nd image\n",
        "image = test_img[1]\n",
        "plot.xlabel(int(test_lbl[1]))\n",
        "plot.imshow(image[:,:,0], cmap = 'gray')\n"
      ],
      "metadata": {
        "colab": {
          "base_uri": "https://localhost:8080/",
          "height": 296
        },
        "id": "xpfmEl5a7Mbj",
        "outputId": "e84c0eec-6a4d-4b83-aaa7-0268f5843531"
      },
      "execution_count": 7,
      "outputs": [
        {
          "output_type": "execute_result",
          "data": {
            "text/plain": [
              "<matplotlib.image.AxesImage at 0x7f63b27c46d0>"
            ]
          },
          "metadata": {},
          "execution_count": 7
        },
        {
          "output_type": "display_data",
          "data": {
            "image/png": "[encoded data removed]",
            "text/plain": [
              "<Figure size 432x288 with 1 Axes>"
            ]
          },
          "metadata": {
            "needs_background": "light"
          }
        }
      ]
    },
    {
      "cell_type": "code",
      "source": [
        "## 3rd image\n",
        "image = test_img[2]\n",
        "plot.xlabel(int(test_lbl[2]))\n",
        "plot.imshow(image[:,:,0], cmap = 'gray')\n"
      ],
      "metadata": {
        "colab": {
          "base_uri": "https://localhost:8080/",
          "height": 296
        },
        "id": "KTfZEPEM7NTa",
        "outputId": "be2409d4-a44d-49d5-81ed-1b47eb946c52"
      },
      "execution_count": 8,
      "outputs": [
        {
          "output_type": "execute_result",
          "data": {
            "text/plain": [
              "<matplotlib.image.AxesImage at 0x7f63b21d1e50>"
            ]
          },
          "metadata": {},
          "execution_count": 8
        },
        {
          "output_type": "display_data",
          "data": {
            "image/png": "[encoded data removed]",
            "text/plain": [
              "<Figure size 432x288 with 1 Axes>"
            ]
          },
          "metadata": {
            "needs_background": "light"
          }
        }
      ]
    },
    {
      "cell_type": "code",
      "source": [
        "## 4th image\n",
        "image = test_img[3]\n",
        "plot.xlabel(int(test_lbl[3]))\n",
        "plot.imshow(image[:,:,0], cmap = 'gray')\n"
      ],
      "metadata": {
        "colab": {
          "base_uri": "https://localhost:8080/",
          "height": 296
        },
        "id": "w94guQFl7ORk",
        "outputId": "7bc944c1-8a41-4851-fda2-accea025d3eb"
      },
      "execution_count": null,
      "outputs": [
        {
          "output_type": "execute_result",
          "data": {
            "text/plain": [
              "<matplotlib.image.AxesImage at 0x7f539d4a1a50>"
            ]
          },
          "metadata": {},
          "execution_count": 9
        },
        {
          "output_type": "display_data",
          "data": {
            "image/png": "[encoded data removed]",
            "text/plain": [
              "<Figure size 432x288 with 1 Axes>"
            ]
          },
          "metadata": {
            "needs_background": "light"
          }
        }
      ]
    },
    {
      "cell_type": "code",
      "source": [
        "## 5th image\n",
        "image = test_img[4]\n",
        "plot.xlabel(int(test_lbl[4]))\n",
        "plot.imshow(image[:,:,0], cmap = 'gray')\n"
      ],
      "metadata": {
        "colab": {
          "base_uri": "https://localhost:8080/",
          "height": 296
        },
        "id": "LSpvDtXL7POD",
        "outputId": "882812c9-e04e-4af2-8a3a-3e3d7dd59f99"
      },
      "execution_count": null,
      "outputs": [
        {
          "output_type": "execute_result",
          "data": {
            "text/plain": [
              "<matplotlib.image.AxesImage at 0x7f539d51ac90>"
            ]
          },
          "metadata": {},
          "execution_count": 10
        },
        {
          "output_type": "display_data",
          "data": {
            "image/png": "[encoded data removed]",
            "text/plain": [
              "<Figure size 432x288 with 1 Axes>"
            ]
          },
          "metadata": {
            "needs_background": "light"
          }
        }
      ]
    },
    {
      "cell_type": "code",
      "source": [
        "##(B) Flatten the training and the testing dataset by reshaping the images into a single vector for each \n",
        "##    data. Print the input and the output shape of the training and the testing dataset.\n",
        "\n",
        "flat_train_img = train_img.reshape(1400, -1)\n",
        "flat_test_img = test_img.reshape(600, -1)\n",
        "print('Input images and output labels size of flat vector Training set respectively:', flat_train_img.shape, train_lbl.shape)\n",
        "print('\\nInput images and output labels size of flat vector Testing set respectively:', flat_test_img.shape, test_lbl.shape)\n",
        "\n"
      ],
      "metadata": {
        "id": "tTmR3TVezbYD",
        "colab": {
          "base_uri": "https://localhost:8080/"
        },
        "outputId": "3572d331-12e0-4ca5-d09a-3d6e5d2b748c"
      },
      "execution_count": 32,
      "outputs": [
        {
          "output_type": "stream",
          "name": "stdout",
          "text": [
            "Input images and output labels size of flat vector Training set respectively: torch.Size([1400, 784]) torch.Size([1400, 1])\n",
            "\n",
            "Input images and output labels size of flat vector Testing set respectively: torch.Size([600, 784]) torch.Size([600, 1])\n"
          ]
        }
      ]
    },
    {
      "cell_type": "code",
      "source": [
        "##(C) Create DataLoaders that can be iteratively fed to a neural network for training and testing.\n",
        "##    Use batch size as 64\n",
        "\n",
        "\n",
        "def make_data_loader(dataset, batch_size):\n",
        "  dataset_loader = DataLoader(dataset, batch_size, shuffle = False)\n",
        "  return dataset_loader\n",
        "  "
      ],
      "metadata": {
        "id": "PDwCVEbl75wG"
      },
      "execution_count": null,
      "outputs": []
    },
    {
      "cell_type": "markdown",
      "source": [
        "##**STEP 1**: All models\n",
        "##1)Model-configuration – 1: Build a 1-hidden layer network with 50 hidden units.\n"
      ],
      "metadata": {
        "id": "YlvbS97r-K9O"
      }
    },
    {
      "cell_type": "code",
      "source": [
        "import torch.nn as nn\n",
        "input_size = 28*28\n",
        "num_classes = 10\n",
        "\n",
        "\n",
        "class MnistModel(nn.Module):\n",
        "  def __init__(self):\n",
        "    super().__init__()\n",
        "    self.linear = nn.Linear(input_size, num_classes)\n",
        "  \n",
        "  def forward(self, xb):\n",
        "    xb = xb.reshape(-1, 784)\n",
        "    out = self.linear(xb)\n",
        "    return out\n",
        "\n",
        "\n",
        "model = MnistModel()\n",
        "\n"
      ],
      "metadata": {
        "id": "4cFi2yyN-bQo"
      },
      "execution_count": 51,
      "outputs": []
    },
    {
      "cell_type": "code",
      "source": [
        "loader1 = make_data_loader(train_img, 100)\n",
        "loader2 = make_data_loader(train_lbl, 100)\n",
        "\n",
        "for image in loader1:\n",
        "  y = model(image)\n",
        "  print(y.shape)\n",
        "  #print(y)\n",
        "  break\n",
        "\n",
        "for label in loader2:\n",
        "  lbl = label\n",
        "  lbl = torch.squeeze(lbl)\n",
        "  print(lbl.shape)\n",
        "  print(lbl)\n",
        "  break"
      ],
      "metadata": {
        "colab": {
          "base_uri": "https://localhost:8080/"
        },
        "id": "dZJGOtV3NEn-",
        "outputId": "904070bc-e545-4fe9-be15-daa9e81d1850"
      },
      "execution_count": 171,
      "outputs": [
        {
          "output_type": "stream",
          "name": "stdout",
          "text": [
            "torch.Size([100, 10])\n",
            "torch.Size([100])\n",
            "tensor([5, 0, 4, 1, 9, 2, 1, 3, 1, 4, 3, 5, 3, 6, 1, 7, 2, 8, 6, 9, 4, 0, 9, 1,\n",
            "        1, 2, 4, 3, 2, 7, 3, 8, 6, 9, 0, 5, 6, 0, 7, 6, 1, 8, 7, 9, 3, 9, 8, 5,\n",
            "        9, 3, 3, 0, 7, 4, 9, 8, 0, 9, 4, 1, 4, 4, 6, 0, 4, 5, 6, 1, 0, 0, 1, 7,\n",
            "        1, 6, 3, 0, 2, 1, 1, 7, 9, 0, 2, 6, 7, 8, 3, 9, 0, 4, 6, 7, 4, 6, 8, 0,\n",
            "        7, 8, 3, 1])\n"
          ]
        }
      ]
    },
    {
      "cell_type": "code",
      "source": [
        "#implement the softmax activation function.\n",
        "\n",
        "import torch.nn.functional as function\n",
        "output_prob = function.softmax(y, dim = 1 )\n",
        "#print(output_prob)\n",
        "#print(torch.sum(output_prob[4]).item())"
      ],
      "metadata": {
        "id": "_K_8Bh-HPV9L"
      },
      "execution_count": 148,
      "outputs": []
    },
    {
      "cell_type": "code",
      "source": [
        "max, pred = torch.max(output_prob, dim = 1)\n",
        "#print(max)\n",
        "print(pred)\n",
        "#print(train_lbl[:5])"
      ],
      "metadata": {
        "colab": {
          "base_uri": "https://localhost:8080/"
        },
        "id": "DJid7GRYRvXg",
        "outputId": "f9594cbc-79b2-4ac2-ec79-b90910d40b25"
      },
      "execution_count": 152,
      "outputs": [
        {
          "output_type": "stream",
          "name": "stdout",
          "text": [
            "tensor([0, 8, 9, 1, 9, 1, 1, 1, 9, 2, 1, 1, 1, 0, 1, 0, 8, 1, 2, 7, 9, 1, 2, 1,\n",
            "        8, 1, 4, 1, 8, 1, 7, 1, 0, 1, 2, 9, 9, 8, 4, 2, 8, 1, 0, 0, 1, 0, 1, 0,\n",
            "        1, 1, 9, 1, 4, 9, 4, 1, 1, 0, 9, 1, 6, 9, 1, 1, 0, 1, 2, 8, 5, 1, 1, 9,\n",
            "        1, 2, 1, 9, 8, 1, 6, 1, 1, 0, 1, 1, 4, 1, 7, 0, 1, 0, 0, 7, 1, 2, 1, 1,\n",
            "        0, 1, 8, 6])\n"
          ]
        }
      ]
    },
    {
      "cell_type": "code",
      "source": [
        "def accuracy(labels, preds):\n",
        "  a = torch.sum(preds == labels).item()/len(preds)\n",
        "  return a  "
      ],
      "metadata": {
        "id": "4Rzr0P5yT3m8"
      },
      "execution_count": 150,
      "outputs": []
    },
    {
      "cell_type": "code",
      "source": [
        "loss_fnc = function.cross_entropy\n",
        "loss = loss_fnc(y, lbl)\n",
        "print(loss)\n"
      ],
      "metadata": {
        "colab": {
          "base_uri": "https://localhost:8080/"
        },
        "id": "8c9hAyE3Z9-V",
        "outputId": "1677ae97-c51d-4928-8883-7e8fe7b54532"
      },
      "execution_count": 173,
      "outputs": [
        {
          "output_type": "stream",
          "name": "stdout",
          "text": [
            "tensor(2.2993, grad_fn=<NllLossBackward0>)\n"
          ]
        },
        {
          "output_type": "execute_result",
          "data": {
            "text/plain": [
              "0.10032745131243863"
            ]
          },
          "metadata": {},
          "execution_count": 173
        }
      ]
    },
    {
      "cell_type": "code",
      "source": [
        "learning_rate = 0.001\n",
        "optimizer = torch.optim.SGD(model.parameters(), lr = learning_rate)"
      ],
      "metadata": {
        "id": "8WHeOoUFn2XN"
      },
      "execution_count": 174,
      "outputs": []
    },
    {
      "cell_type": "code",
      "source": [
        "def loss_batch(model, loss_fnc, xb, yb, opt, metric):\n",
        "  preds = model(xb)\n",
        "  yb = torch.squeeze(yb)\n",
        "  loss = loss_fnc(preds, yb)\n",
        "\n",
        "  if opt is not None:\n",
        "    loss.backward()\n",
        "    opt.step()\n",
        "    opt.zero_grad()\n",
        "\n",
        "  metric_result = None\n",
        "  if metric is not None:\n",
        "    metric_result = metric(preds, yb)\n",
        "  return loss.item(), len(xb), metric_result\n",
        "\n",
        "x, y, z = loss_batch(model, loss_fnc, train_img, train_lbl, None, None)\n",
        "\n",
        "x,y,z"
      ],
      "metadata": {
        "id": "VhaZILmUqbEz"
      },
      "execution_count": null,
      "outputs": []
    },
    {
      "cell_type": "code",
      "source": [
        ""
      ],
      "metadata": {
        "id": "pZALjw3NcTyZ"
      },
      "execution_count": 12,
      "outputs": []
    }
  ]
}